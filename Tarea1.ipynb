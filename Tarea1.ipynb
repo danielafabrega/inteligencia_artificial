{
 "cells": [
  {
   "cell_type": "code",
   "execution_count": 29,
   "metadata": {},
   "outputs": [
    {
     "data": {
      "text/html": [
       "<div>\n",
       "<style scoped>\n",
       "    .dataframe tbody tr th:only-of-type {\n",
       "        vertical-align: middle;\n",
       "    }\n",
       "\n",
       "    .dataframe tbody tr th {\n",
       "        vertical-align: top;\n",
       "    }\n",
       "\n",
       "    .dataframe thead th {\n",
       "        text-align: right;\n",
       "    }\n",
       "</style>\n",
       "<table border=\"1\" class=\"dataframe\">\n",
       "  <thead>\n",
       "    <tr style=\"text-align: right;\">\n",
       "      <th></th>\n",
       "      <th>objid</th>\n",
       "      <th>ra</th>\n",
       "      <th>dec</th>\n",
       "      <th>u</th>\n",
       "      <th>g</th>\n",
       "      <th>r</th>\n",
       "      <th>i</th>\n",
       "      <th>z</th>\n",
       "      <th>run</th>\n",
       "      <th>rerun</th>\n",
       "      <th>camcol</th>\n",
       "      <th>field</th>\n",
       "      <th>specobjid</th>\n",
       "      <th>class</th>\n",
       "      <th>redshift</th>\n",
       "      <th>plate</th>\n",
       "      <th>mjd</th>\n",
       "      <th>fiberid</th>\n",
       "    </tr>\n",
       "  </thead>\n",
       "  <tbody>\n",
       "    <tr>\n",
       "      <th>0</th>\n",
       "      <td>1.237650e+18</td>\n",
       "      <td>183.531326</td>\n",
       "      <td>0.089693</td>\n",
       "      <td>19.47406</td>\n",
       "      <td>17.04240</td>\n",
       "      <td>15.94699</td>\n",
       "      <td>15.50342</td>\n",
       "      <td>15.22531</td>\n",
       "      <td>752</td>\n",
       "      <td>301</td>\n",
       "      <td>4</td>\n",
       "      <td>267</td>\n",
       "      <td>3.722360e+18</td>\n",
       "      <td>STAR</td>\n",
       "      <td>-0.000009</td>\n",
       "      <td>3306</td>\n",
       "      <td>54922</td>\n",
       "      <td>491</td>\n",
       "    </tr>\n",
       "    <tr>\n",
       "      <th>1</th>\n",
       "      <td>1.237650e+18</td>\n",
       "      <td>183.598371</td>\n",
       "      <td>0.135285</td>\n",
       "      <td>18.66280</td>\n",
       "      <td>17.21449</td>\n",
       "      <td>16.67637</td>\n",
       "      <td>16.48922</td>\n",
       "      <td>16.39150</td>\n",
       "      <td>752</td>\n",
       "      <td>301</td>\n",
       "      <td>4</td>\n",
       "      <td>267</td>\n",
       "      <td>3.638140e+17</td>\n",
       "      <td>STAR</td>\n",
       "      <td>-0.000055</td>\n",
       "      <td>323</td>\n",
       "      <td>51615</td>\n",
       "      <td>541</td>\n",
       "    </tr>\n",
       "    <tr>\n",
       "      <th>2</th>\n",
       "      <td>1.237650e+18</td>\n",
       "      <td>183.680207</td>\n",
       "      <td>0.126185</td>\n",
       "      <td>19.38298</td>\n",
       "      <td>18.19169</td>\n",
       "      <td>17.47428</td>\n",
       "      <td>17.08732</td>\n",
       "      <td>16.80125</td>\n",
       "      <td>752</td>\n",
       "      <td>301</td>\n",
       "      <td>4</td>\n",
       "      <td>268</td>\n",
       "      <td>3.232740e+17</td>\n",
       "      <td>GALAXY</td>\n",
       "      <td>0.123111</td>\n",
       "      <td>287</td>\n",
       "      <td>52023</td>\n",
       "      <td>513</td>\n",
       "    </tr>\n",
       "    <tr>\n",
       "      <th>3</th>\n",
       "      <td>1.237650e+18</td>\n",
       "      <td>183.870529</td>\n",
       "      <td>0.049911</td>\n",
       "      <td>17.76536</td>\n",
       "      <td>16.60272</td>\n",
       "      <td>16.16116</td>\n",
       "      <td>15.98233</td>\n",
       "      <td>15.90438</td>\n",
       "      <td>752</td>\n",
       "      <td>301</td>\n",
       "      <td>4</td>\n",
       "      <td>269</td>\n",
       "      <td>3.722370e+18</td>\n",
       "      <td>STAR</td>\n",
       "      <td>-0.000111</td>\n",
       "      <td>3306</td>\n",
       "      <td>54922</td>\n",
       "      <td>510</td>\n",
       "    </tr>\n",
       "    <tr>\n",
       "      <th>4</th>\n",
       "      <td>1.237650e+18</td>\n",
       "      <td>183.883288</td>\n",
       "      <td>0.102557</td>\n",
       "      <td>17.55025</td>\n",
       "      <td>16.26342</td>\n",
       "      <td>16.43869</td>\n",
       "      <td>16.55492</td>\n",
       "      <td>16.61326</td>\n",
       "      <td>752</td>\n",
       "      <td>301</td>\n",
       "      <td>4</td>\n",
       "      <td>269</td>\n",
       "      <td>3.722370e+18</td>\n",
       "      <td>STAR</td>\n",
       "      <td>0.000590</td>\n",
       "      <td>3306</td>\n",
       "      <td>54922</td>\n",
       "      <td>512</td>\n",
       "    </tr>\n",
       "    <tr>\n",
       "      <th>...</th>\n",
       "      <td>...</td>\n",
       "      <td>...</td>\n",
       "      <td>...</td>\n",
       "      <td>...</td>\n",
       "      <td>...</td>\n",
       "      <td>...</td>\n",
       "      <td>...</td>\n",
       "      <td>...</td>\n",
       "      <td>...</td>\n",
       "      <td>...</td>\n",
       "      <td>...</td>\n",
       "      <td>...</td>\n",
       "      <td>...</td>\n",
       "      <td>...</td>\n",
       "      <td>...</td>\n",
       "      <td>...</td>\n",
       "      <td>...</td>\n",
       "      <td>...</td>\n",
       "    </tr>\n",
       "    <tr>\n",
       "      <th>9995</th>\n",
       "      <td>1.237650e+18</td>\n",
       "      <td>131.316413</td>\n",
       "      <td>51.539547</td>\n",
       "      <td>18.81777</td>\n",
       "      <td>17.47053</td>\n",
       "      <td>16.91508</td>\n",
       "      <td>16.68305</td>\n",
       "      <td>16.50570</td>\n",
       "      <td>1345</td>\n",
       "      <td>301</td>\n",
       "      <td>3</td>\n",
       "      <td>161</td>\n",
       "      <td>5.033450e+17</td>\n",
       "      <td>GALAXY</td>\n",
       "      <td>0.027583</td>\n",
       "      <td>447</td>\n",
       "      <td>51877</td>\n",
       "      <td>246</td>\n",
       "    </tr>\n",
       "    <tr>\n",
       "      <th>9996</th>\n",
       "      <td>1.237650e+18</td>\n",
       "      <td>131.306083</td>\n",
       "      <td>51.671341</td>\n",
       "      <td>18.27255</td>\n",
       "      <td>17.43849</td>\n",
       "      <td>17.07692</td>\n",
       "      <td>16.71661</td>\n",
       "      <td>16.69897</td>\n",
       "      <td>1345</td>\n",
       "      <td>301</td>\n",
       "      <td>3</td>\n",
       "      <td>162</td>\n",
       "      <td>5.033400e+17</td>\n",
       "      <td>GALAXY</td>\n",
       "      <td>0.117772</td>\n",
       "      <td>447</td>\n",
       "      <td>51877</td>\n",
       "      <td>228</td>\n",
       "    </tr>\n",
       "    <tr>\n",
       "      <th>9997</th>\n",
       "      <td>1.237650e+18</td>\n",
       "      <td>131.552562</td>\n",
       "      <td>51.666986</td>\n",
       "      <td>18.75818</td>\n",
       "      <td>17.77784</td>\n",
       "      <td>17.51872</td>\n",
       "      <td>17.43302</td>\n",
       "      <td>17.42048</td>\n",
       "      <td>1345</td>\n",
       "      <td>301</td>\n",
       "      <td>3</td>\n",
       "      <td>162</td>\n",
       "      <td>8.222620e+18</td>\n",
       "      <td>STAR</td>\n",
       "      <td>-0.000402</td>\n",
       "      <td>7303</td>\n",
       "      <td>57013</td>\n",
       "      <td>622</td>\n",
       "    </tr>\n",
       "    <tr>\n",
       "      <th>9998</th>\n",
       "      <td>1.237650e+18</td>\n",
       "      <td>131.477151</td>\n",
       "      <td>51.753068</td>\n",
       "      <td>18.88287</td>\n",
       "      <td>17.91068</td>\n",
       "      <td>17.53152</td>\n",
       "      <td>17.36284</td>\n",
       "      <td>17.13988</td>\n",
       "      <td>1345</td>\n",
       "      <td>301</td>\n",
       "      <td>3</td>\n",
       "      <td>163</td>\n",
       "      <td>5.033400e+17</td>\n",
       "      <td>GALAXY</td>\n",
       "      <td>0.014019</td>\n",
       "      <td>447</td>\n",
       "      <td>51877</td>\n",
       "      <td>229</td>\n",
       "    </tr>\n",
       "    <tr>\n",
       "      <th>9999</th>\n",
       "      <td>1.237650e+18</td>\n",
       "      <td>131.665012</td>\n",
       "      <td>51.805307</td>\n",
       "      <td>19.27586</td>\n",
       "      <td>17.37829</td>\n",
       "      <td>16.30542</td>\n",
       "      <td>15.83548</td>\n",
       "      <td>15.50588</td>\n",
       "      <td>1345</td>\n",
       "      <td>301</td>\n",
       "      <td>3</td>\n",
       "      <td>163</td>\n",
       "      <td>5.033410e+17</td>\n",
       "      <td>GALAXY</td>\n",
       "      <td>0.118417</td>\n",
       "      <td>447</td>\n",
       "      <td>51877</td>\n",
       "      <td>233</td>\n",
       "    </tr>\n",
       "  </tbody>\n",
       "</table>\n",
       "<p>10000 rows × 18 columns</p>\n",
       "</div>"
      ],
      "text/plain": [
       "             objid          ra        dec         u         g         r  \\\n",
       "0     1.237650e+18  183.531326   0.089693  19.47406  17.04240  15.94699   \n",
       "1     1.237650e+18  183.598371   0.135285  18.66280  17.21449  16.67637   \n",
       "2     1.237650e+18  183.680207   0.126185  19.38298  18.19169  17.47428   \n",
       "3     1.237650e+18  183.870529   0.049911  17.76536  16.60272  16.16116   \n",
       "4     1.237650e+18  183.883288   0.102557  17.55025  16.26342  16.43869   \n",
       "...            ...         ...        ...       ...       ...       ...   \n",
       "9995  1.237650e+18  131.316413  51.539547  18.81777  17.47053  16.91508   \n",
       "9996  1.237650e+18  131.306083  51.671341  18.27255  17.43849  17.07692   \n",
       "9997  1.237650e+18  131.552562  51.666986  18.75818  17.77784  17.51872   \n",
       "9998  1.237650e+18  131.477151  51.753068  18.88287  17.91068  17.53152   \n",
       "9999  1.237650e+18  131.665012  51.805307  19.27586  17.37829  16.30542   \n",
       "\n",
       "             i         z   run  rerun  camcol  field     specobjid   class  \\\n",
       "0     15.50342  15.22531   752    301       4    267  3.722360e+18    STAR   \n",
       "1     16.48922  16.39150   752    301       4    267  3.638140e+17    STAR   \n",
       "2     17.08732  16.80125   752    301       4    268  3.232740e+17  GALAXY   \n",
       "3     15.98233  15.90438   752    301       4    269  3.722370e+18    STAR   \n",
       "4     16.55492  16.61326   752    301       4    269  3.722370e+18    STAR   \n",
       "...        ...       ...   ...    ...     ...    ...           ...     ...   \n",
       "9995  16.68305  16.50570  1345    301       3    161  5.033450e+17  GALAXY   \n",
       "9996  16.71661  16.69897  1345    301       3    162  5.033400e+17  GALAXY   \n",
       "9997  17.43302  17.42048  1345    301       3    162  8.222620e+18    STAR   \n",
       "9998  17.36284  17.13988  1345    301       3    163  5.033400e+17  GALAXY   \n",
       "9999  15.83548  15.50588  1345    301       3    163  5.033410e+17  GALAXY   \n",
       "\n",
       "      redshift  plate    mjd  fiberid  \n",
       "0    -0.000009   3306  54922      491  \n",
       "1    -0.000055    323  51615      541  \n",
       "2     0.123111    287  52023      513  \n",
       "3    -0.000111   3306  54922      510  \n",
       "4     0.000590   3306  54922      512  \n",
       "...        ...    ...    ...      ...  \n",
       "9995  0.027583    447  51877      246  \n",
       "9996  0.117772    447  51877      228  \n",
       "9997 -0.000402   7303  57013      622  \n",
       "9998  0.014019    447  51877      229  \n",
       "9999  0.118417    447  51877      233  \n",
       "\n",
       "[10000 rows x 18 columns]"
      ]
     },
     "execution_count": 29,
     "metadata": {},
     "output_type": "execute_result"
    }
   ],
   "source": [
    "import pandas as pd\n",
    "import seaborn as sb\n",
    "import matplotlib.pyplot as plt\n",
    "import numpy as np \n",
    "import sklearn\n",
    "from sklearn.utils import resample\n",
    "import seaborn as sns\n",
    "from sklearn.model_selection import train_test_split\n",
    "from sklearn import metrics \n",
    "from sklearn.metrics import classification_report\n",
    "from sklearn.neighbors import KNeighborsClassifier\n",
    "from collections import Counter\n",
    "from sklearn.datasets import make_classification\n",
    "from imblearn.over_sampling import RandomOverSampler\n",
    "from sklearn.metrics import confusion_matrix\n",
    "from sklearn.pipeline import make_pipeline\n",
    "from sklearn.svm import SVC\n",
    "from sklearn.preprocessing import StandardScaler\n",
    "from sklearn.ensemble import RandomForestClassifier\n",
    "from sklearn.datasets import make_classification\n",
    "\n",
    "df = pd.read_csv(\"SDSS-DR14.csv\")\n",
    "df"
   ]
  },
  {
   "cell_type": "code",
   "execution_count": 2,
   "metadata": {},
   "outputs": [
    {
     "data": {
      "text/plain": [
       "objid        0\n",
       "ra           0\n",
       "dec          0\n",
       "u            0\n",
       "g            0\n",
       "r            0\n",
       "i            0\n",
       "z            0\n",
       "run          0\n",
       "rerun        0\n",
       "camcol       0\n",
       "field        0\n",
       "specobjid    0\n",
       "class        0\n",
       "redshift     0\n",
       "plate        0\n",
       "mjd          0\n",
       "fiberid      0\n",
       "dtype: int64"
      ]
     },
     "execution_count": 2,
     "metadata": {},
     "output_type": "execute_result"
    }
   ],
   "source": [
    "df.isnull().sum()"
   ]
  },
  {
   "cell_type": "code",
   "execution_count": 3,
   "metadata": {},
   "outputs": [
    {
     "name": "stdout",
     "output_type": "stream",
     "text": [
      "<class 'pandas.core.frame.DataFrame'>\n",
      "RangeIndex: 10000 entries, 0 to 9999\n",
      "Data columns (total 18 columns):\n",
      " #   Column     Non-Null Count  Dtype  \n",
      "---  ------     --------------  -----  \n",
      " 0   objid      10000 non-null  float64\n",
      " 1   ra         10000 non-null  float64\n",
      " 2   dec        10000 non-null  float64\n",
      " 3   u          10000 non-null  float64\n",
      " 4   g          10000 non-null  float64\n",
      " 5   r          10000 non-null  float64\n",
      " 6   i          10000 non-null  float64\n",
      " 7   z          10000 non-null  float64\n",
      " 8   run        10000 non-null  int64  \n",
      " 9   rerun      10000 non-null  int64  \n",
      " 10  camcol     10000 non-null  int64  \n",
      " 11  field      10000 non-null  int64  \n",
      " 12  specobjid  10000 non-null  float64\n",
      " 13  class      10000 non-null  object \n",
      " 14  redshift   10000 non-null  float64\n",
      " 15  plate      10000 non-null  int64  \n",
      " 16  mjd        10000 non-null  int64  \n",
      " 17  fiberid    10000 non-null  int64  \n",
      "dtypes: float64(10), int64(7), object(1)\n",
      "memory usage: 1.4+ MB\n"
     ]
    }
   ],
   "source": [
    "df.info()"
   ]
  },
  {
   "cell_type": "code",
   "execution_count": 4,
   "metadata": {},
   "outputs": [
    {
     "data": {
      "text/plain": [
       "<matplotlib.axes._subplots.AxesSubplot at 0x7f5862456810>"
      ]
     },
     "execution_count": 4,
     "metadata": {},
     "output_type": "execute_result"
    },
    {
     "data": {
      "image/png": "[encoded data removed]",
      "text/plain": [
       "<Figure size 432x288 with 1 Axes>"
      ]
     },
     "metadata": {
      "needs_background": "light"
     },
     "output_type": "display_data"
    }
   ],
   "source": [
    "#cantidad demasiado pequeña de quasar\n",
    "sb.countplot(x='class',data=df, palette='hls')"
   ]
  },
  {
   "cell_type": "code",
   "execution_count": 5,
   "metadata": {},
   "outputs": [
    {
     "data": {
      "text/plain": [
       "objid        1.237650e+18\n",
       "ra           1.755300e+02\n",
       "dec          1.483615e+01\n",
       "u            1.861936e+01\n",
       "g            1.737193e+01\n",
       "r            1.684096e+01\n",
       "i            1.658358e+01\n",
       "z            1.642283e+01\n",
       "run          9.810348e+02\n",
       "rerun        3.010000e+02\n",
       "camcol       3.648700e+00\n",
       "field        3.023801e+02\n",
       "specobjid    1.645022e+18\n",
       "redshift     1.437257e-01\n",
       "plate        1.460986e+03\n",
       "mjd          5.294353e+04\n",
       "fiberid      3.530694e+02\n",
       "dtype: float64"
      ]
     },
     "execution_count": 5,
     "metadata": {},
     "output_type": "execute_result"
    }
   ],
   "source": [
    "#la media de objid y rerun son iguales a los valores visibles desde el dataframe por lo que podemos sospechar\n",
    "#que son valores que se repetiran en todo el dataframe\n",
    "df.mean()"
   ]
  },
  {
   "cell_type": "code",
   "execution_count": 6,
   "metadata": {},
   "outputs": [
    {
     "name": "stdout",
     "output_type": "stream",
     "text": [
      "                       ra    dec      u      g      r      i      z    run  \\\n",
      "rerun objid                                                                  \n",
      "301   1.237650e+18  10000  10000  10000  10000  10000  10000  10000  10000   \n",
      "\n",
      "                    camcol  field  specobjid  class  redshift  plate    mjd  \\\n",
      "rerun objid                                                                   \n",
      "301   1.237650e+18   10000  10000      10000  10000     10000  10000  10000   \n",
      "\n",
      "                    fiberid  \n",
      "rerun objid                  \n",
      "301   1.237650e+18    10000  \n",
      "\n",
      " [3.01000e+02 1.23765e+18]\n"
     ]
    }
   ],
   "source": [
    "#valores inservibles: objid, rerun \n",
    "df_unique = pd.unique(df[['rerun','objid']].values.ravel('K'))\n",
    "df_counts = df.groupby(['rerun','objid']).count()\n",
    "print(df_counts)\n",
    "print(\"\\n\",df_unique)"
   ]
  },
  {
   "cell_type": "code",
   "execution_count": 7,
   "metadata": {},
   "outputs": [
    {
     "name": "stdout",
     "output_type": "stream",
     "text": [
      "              ra        dec         u         g         r         i         z  \\\n",
      "0     183.531326   0.089693  19.47406  17.04240  15.94699  15.50342  15.22531   \n",
      "1     183.598371   0.135285  18.66280  17.21449  16.67637  16.48922  16.39150   \n",
      "2     183.680207   0.126185  19.38298  18.19169  17.47428  17.08732  16.80125   \n",
      "3     183.870529   0.049911  17.76536  16.60272  16.16116  15.98233  15.90438   \n",
      "4     183.883288   0.102557  17.55025  16.26342  16.43869  16.55492  16.61326   \n",
      "...          ...        ...       ...       ...       ...       ...       ...   \n",
      "9995  131.316413  51.539547  18.81777  17.47053  16.91508  16.68305  16.50570   \n",
      "9996  131.306083  51.671341  18.27255  17.43849  17.07692  16.71661  16.69897   \n",
      "9997  131.552562  51.666986  18.75818  17.77784  17.51872  17.43302  17.42048   \n",
      "9998  131.477151  51.753068  18.88287  17.91068  17.53152  17.36284  17.13988   \n",
      "9999  131.665012  51.805307  19.27586  17.37829  16.30542  15.83548  15.50588   \n",
      "\n",
      "       run  camcol  field     specobjid  redshift  plate    mjd  fiberid  \n",
      "0      752       4    267  3.722360e+18 -0.000009   3306  54922      491  \n",
      "1      752       4    267  3.638140e+17 -0.000055    323  51615      541  \n",
      "2      752       4    268  3.232740e+17  0.123111    287  52023      513  \n",
      "3      752       4    269  3.722370e+18 -0.000111   3306  54922      510  \n",
      "4      752       4    269  3.722370e+18  0.000590   3306  54922      512  \n",
      "...    ...     ...    ...           ...       ...    ...    ...      ...  \n",
      "9995  1345       3    161  5.033450e+17  0.027583    447  51877      246  \n",
      "9996  1345       3    162  5.033400e+17  0.117772    447  51877      228  \n",
      "9997  1345       3    162  8.222620e+18 -0.000402   7303  57013      622  \n",
      "9998  1345       3    163  5.033400e+17  0.014019    447  51877      229  \n",
      "9999  1345       3    163  5.033410e+17  0.118417    447  51877      233  \n",
      "\n",
      "[10000 rows x 15 columns]\n"
     ]
    }
   ],
   "source": [
    "#eliminamos las columnas objid, rerun y class\n",
    "df_drop = df.drop(['objid','rerun','class'], axis=1)\n",
    "print(df_drop)"
   ]
  },
  {
   "cell_type": "code",
   "execution_count": 8,
   "metadata": {},
   "outputs": [
    {
     "data": {
      "text/plain": [
       "<matplotlib.axes._subplots.AxesSubplot at 0x7f585fcbde90>"
      ]
     },
     "execution_count": 8,
     "metadata": {},
     "output_type": "execute_result"
    },
    {
     "data": {
      "image/png": "[encoded data removed]",
      "text/plain": [
       "<Figure size 432x288 with 2 Axes>"
      ]
     },
     "metadata": {
      "needs_background": "light"
     },
     "output_type": "display_data"
    }
   ],
   "source": [
    "corr = df_drop.corr()\n",
    "sns.heatmap(corr, \n",
    "               xticklabels=corr.columns.values,\n",
    "               yticklabels=corr.columns.values)"
   ]
  },
  {
   "cell_type": "code",
   "execution_count": 9,
   "metadata": {},
   "outputs": [
    {
     "name": "stdout",
     "output_type": "stream",
     "text": [
      "0         STAR\n",
      "1         STAR\n",
      "2       GALAXY\n",
      "3         STAR\n",
      "4         STAR\n",
      "         ...  \n",
      "9995    GALAXY\n",
      "9996    GALAXY\n",
      "9997      STAR\n",
      "9998    GALAXY\n",
      "9999    GALAXY\n",
      "Name: class, Length: 10000, dtype: object\n",
      "              ra        dec         u         g         r         i         z  \\\n",
      "0     183.531326   0.089693  19.47406  17.04240  15.94699  15.50342  15.22531   \n",
      "1     183.598371   0.135285  18.66280  17.21449  16.67637  16.48922  16.39150   \n",
      "2     183.680207   0.126185  19.38298  18.19169  17.47428  17.08732  16.80125   \n",
      "3     183.870529   0.049911  17.76536  16.60272  16.16116  15.98233  15.90438   \n",
      "4     183.883288   0.102557  17.55025  16.26342  16.43869  16.55492  16.61326   \n",
      "...          ...        ...       ...       ...       ...       ...       ...   \n",
      "9995  131.316413  51.539547  18.81777  17.47053  16.91508  16.68305  16.50570   \n",
      "9996  131.306083  51.671341  18.27255  17.43849  17.07692  16.71661  16.69897   \n",
      "9997  131.552562  51.666986  18.75818  17.77784  17.51872  17.43302  17.42048   \n",
      "9998  131.477151  51.753068  18.88287  17.91068  17.53152  17.36284  17.13988   \n",
      "9999  131.665012  51.805307  19.27586  17.37829  16.30542  15.83548  15.50588   \n",
      "\n",
      "       run  camcol  field     specobjid  redshift  plate    mjd  fiberid  \n",
      "0      752       4    267  3.722360e+18 -0.000009   3306  54922      491  \n",
      "1      752       4    267  3.638140e+17 -0.000055    323  51615      541  \n",
      "2      752       4    268  3.232740e+17  0.123111    287  52023      513  \n",
      "3      752       4    269  3.722370e+18 -0.000111   3306  54922      510  \n",
      "4      752       4    269  3.722370e+18  0.000590   3306  54922      512  \n",
      "...    ...     ...    ...           ...       ...    ...    ...      ...  \n",
      "9995  1345       3    161  5.033450e+17  0.027583    447  51877      246  \n",
      "9996  1345       3    162  5.033400e+17  0.117772    447  51877      228  \n",
      "9997  1345       3    162  8.222620e+18 -0.000402   7303  57013      622  \n",
      "9998  1345       3    163  5.033400e+17  0.014019    447  51877      229  \n",
      "9999  1345       3    163  5.033410e+17  0.118417    447  51877      233  \n",
      "\n",
      "[10000 rows x 15 columns]\n"
     ]
    }
   ],
   "source": [
    "#Dividir variables independientes y dependientes\n",
    "X = df[['ra', 'dec', 'u', 'g', 'r', 'i', 'z', 'run', 'camcol', 'field', 'specobjid',\n",
    " 'redshift', 'plate', 'mjd', 'fiberid']]\n",
    "y = df['class']\n",
    "print(y)\n",
    "print(X)"
   ]
  },
  {
   "cell_type": "code",
   "execution_count": 10,
   "metadata": {},
   "outputs": [
    {
     "name": "stdout",
     "output_type": "stream",
     "text": [
      "              ra        dec         u         g         r         i         z  \\\n",
      "3555  173.573276  -0.518473  19.49648  19.36368  19.29852  19.11845  19.08193   \n",
      "4078  167.449438  -0.204307  19.27516  17.93593  17.16087  16.72539  16.46638   \n",
      "8445   14.399753  14.601499  17.32164  15.94063  15.26906  14.85143  14.59428   \n",
      "5939  182.372733  -0.860851  19.56933  18.65260  18.45110  18.37256  18.30464   \n",
      "5583  142.134485  58.409548  19.04761  18.15117  17.83382  17.69068  17.64062   \n",
      "...          ...        ...       ...       ...       ...       ...       ...   \n",
      "3341  227.375806  -0.771168  16.99624  15.53884  14.83586  14.42628  14.12664   \n",
      "4876  179.919959  -0.534320  18.82454  18.26074  17.93938  17.70602  17.46235   \n",
      "8343  240.641309  52.250872  16.71322  15.25464  14.72938  14.56272  14.50999   \n",
      "7913  162.119589   0.660777  19.51074  17.67424  16.77590  16.36040  16.06209   \n",
      "2190   27.475474  13.126662  19.00817  17.13766  16.36818  15.99174  15.71176   \n",
      "\n",
      "       run  camcol  field     specobjid  redshift  plate    mjd  fiberid  \n",
      "3555   756       2    386  3.175690e+17  1.537378    282  51658      238  \n",
      "4078   756       3    345  3.130460e+17  0.135670    278  51900      167  \n",
      "8445  1035       3     58  4.740770e+17  0.077225    421  51821      266  \n",
      "5939   756       1    444  3.722310e+18  0.000581   3306  54922      298  \n",
      "5583  1345       5    223  9.230130e+18 -0.000010   8198  57374        6  \n",
      "...    ...     ...    ...           ...       ...    ...    ...      ...  \n",
      "3341   752       2    560  3.502110e+17  0.037770    311  51665      203  \n",
      "4876   756       2    428  3.220950e+17  2.031001    286  51999      320  \n",
      "8343  1345       6    565  2.450040e+18  0.000051   2176  54243      313  \n",
      "7913   756       5    309  3.097760e+17  0.083564    275  51910      560  \n",
      "2190  1035       2    144  4.842190e+17  0.017033    430  51877      298  \n",
      "\n",
      "[3000 rows x 15 columns]\n",
      "3555       QSO\n",
      "4078    GALAXY\n",
      "8445    GALAXY\n",
      "5939      STAR\n",
      "5583      STAR\n",
      "         ...  \n",
      "3341    GALAXY\n",
      "4876       QSO\n",
      "8343      STAR\n",
      "7913    GALAXY\n",
      "2190    GALAXY\n",
      "Name: class, Length: 3000, dtype: object\n"
     ]
    },
    {
     "data": {
      "text/plain": [
       "GALAXY    3545\n",
       "STAR      2852\n",
       "QSO        603\n",
       "Name: class, dtype: int64"
      ]
     },
     "execution_count": 10,
     "metadata": {},
     "output_type": "execute_result"
    }
   ],
   "source": [
    "#Divido mis datos en df_train y df_test\n",
    "X_train, X_test, y_train, y_test = train_test_split(X, y, test_size = .3, random_state=25)\n",
    "print(X_test)\n",
    "print(y_test)\n",
    "y_train.value_counts()"
   ]
  },
  {
   "cell_type": "code",
   "execution_count": 11,
   "metadata": {},
   "outputs": [
    {
     "data": {
      "text/plain": [
       "0          QSO\n",
       "1          QSO\n",
       "2       GALAXY\n",
       "3       GALAXY\n",
       "4         STAR\n",
       "         ...  \n",
       "9937       QSO\n",
       "9938       QSO\n",
       "9939       QSO\n",
       "9940       QSO\n",
       "9941       QSO\n",
       "Name: class, Length: 9942, dtype: object"
      ]
     },
     "execution_count": 11,
     "metadata": {},
     "output_type": "execute_result"
    }
   ],
   "source": [
    "oversample = RandomOverSampler(sampling_strategy='minority')\n",
    "X_over, y_over = oversample.fit_resample(X_train, y_train)\n",
    "df_over=pd.concat([X_over,y_over])\n",
    "y_over"
   ]
  },
  {
   "cell_type": "code",
   "execution_count": 12,
   "metadata": {},
   "outputs": [
    {
     "data": {
      "text/plain": [
       "QSO       3545\n",
       "GALAXY    3545\n",
       "STAR      2852\n",
       "Name: class, dtype: int64"
      ]
     },
     "execution_count": 12,
     "metadata": {},
     "output_type": "execute_result"
    }
   ],
   "source": [
    "#verificar cantidad de datos\n",
    "y_over.value_counts()"
   ]
  },
  {
   "cell_type": "code",
   "execution_count": 13,
   "metadata": {
    "scrolled": false
   },
   "outputs": [
    {
     "data": {
      "text/html": [
       "<div>\n",
       "<style scoped>\n",
       "    .dataframe tbody tr th:only-of-type {\n",
       "        vertical-align: middle;\n",
       "    }\n",
       "\n",
       "    .dataframe tbody tr th {\n",
       "        vertical-align: top;\n",
       "    }\n",
       "\n",
       "    .dataframe thead th {\n",
       "        text-align: right;\n",
       "    }\n",
       "</style>\n",
       "<table border=\"1\" class=\"dataframe\">\n",
       "  <thead>\n",
       "    <tr style=\"text-align: right;\">\n",
       "      <th></th>\n",
       "      <th>camcol</th>\n",
       "      <th>dec</th>\n",
       "      <th>fiberid</th>\n",
       "      <th>field</th>\n",
       "      <th>g</th>\n",
       "      <th>i</th>\n",
       "      <th>mjd</th>\n",
       "      <th>plate</th>\n",
       "      <th>r</th>\n",
       "      <th>ra</th>\n",
       "      <th>redshift</th>\n",
       "      <th>run</th>\n",
       "      <th>specobjid</th>\n",
       "      <th>u</th>\n",
       "      <th>z</th>\n",
       "    </tr>\n",
       "  </thead>\n",
       "  <tbody>\n",
       "    <tr>\n",
       "      <th>count</th>\n",
       "      <td>9942.000000</td>\n",
       "      <td>9942.000000</td>\n",
       "      <td>9942.000000</td>\n",
       "      <td>9942.000000</td>\n",
       "      <td>9942.000000</td>\n",
       "      <td>9942.000000</td>\n",
       "      <td>9942.000000</td>\n",
       "      <td>9942.000000</td>\n",
       "      <td>9942.000000</td>\n",
       "      <td>9942.000000</td>\n",
       "      <td>9942.000000</td>\n",
       "      <td>9942.000000</td>\n",
       "      <td>9.942000e+03</td>\n",
       "      <td>9942.000000</td>\n",
       "      <td>9942.000000</td>\n",
       "    </tr>\n",
       "    <tr>\n",
       "      <th>mean</th>\n",
       "      <td>3.673607</td>\n",
       "      <td>16.640024</td>\n",
       "      <td>362.472742</td>\n",
       "      <td>305.549286</td>\n",
       "      <td>17.767490</td>\n",
       "      <td>17.118316</td>\n",
       "      <td>52864.536311</td>\n",
       "      <td>1405.540435</td>\n",
       "      <td>17.340123</td>\n",
       "      <td>176.370761</td>\n",
       "      <td>0.467938</td>\n",
       "      <td>997.580064</td>\n",
       "      <td>1.582598e+18</td>\n",
       "      <td>18.720728</td>\n",
       "      <td>16.981883</td>\n",
       "    </tr>\n",
       "    <tr>\n",
       "      <th>std</th>\n",
       "      <td>1.667510</td>\n",
       "      <td>26.260674</td>\n",
       "      <td>207.338009</td>\n",
       "      <td>163.091559</td>\n",
       "      <td>1.039752</td>\n",
       "      <td>1.309299</td>\n",
       "      <td>1532.403613</td>\n",
       "      <td>1862.923269</td>\n",
       "      <td>1.222868</td>\n",
       "      <td>47.381307</td>\n",
       "      <td>0.710924</td>\n",
       "      <td>276.130725</td>\n",
       "      <td>2.097480e+18</td>\n",
       "      <td>0.761472</td>\n",
       "      <td>1.384393</td>\n",
       "    </tr>\n",
       "    <tr>\n",
       "      <th>min</th>\n",
       "      <td>1.000000</td>\n",
       "      <td>-5.382632</td>\n",
       "      <td>1.000000</td>\n",
       "      <td>11.000000</td>\n",
       "      <td>12.799550</td>\n",
       "      <td>11.947210</td>\n",
       "      <td>51608.000000</td>\n",
       "      <td>266.000000</td>\n",
       "      <td>12.431600</td>\n",
       "      <td>8.235100</td>\n",
       "      <td>-0.004136</td>\n",
       "      <td>308.000000</td>\n",
       "      <td>2.995830e+17</td>\n",
       "      <td>12.988970</td>\n",
       "      <td>11.610410</td>\n",
       "    </tr>\n",
       "    <tr>\n",
       "      <th>25%</th>\n",
       "      <td>2.000000</td>\n",
       "      <td>-0.516491</td>\n",
       "      <td>199.000000</td>\n",
       "      <td>183.000000</td>\n",
       "      <td>17.127297</td>\n",
       "      <td>16.133055</td>\n",
       "      <td>51900.000000</td>\n",
       "      <td>298.000000</td>\n",
       "      <td>16.476307</td>\n",
       "      <td>156.380032</td>\n",
       "      <td>0.000403</td>\n",
       "      <td>756.000000</td>\n",
       "      <td>3.356348e+17</td>\n",
       "      <td>18.358510</td>\n",
       "      <td>15.914985</td>\n",
       "    </tr>\n",
       "    <tr>\n",
       "      <th>50%</th>\n",
       "      <td>4.000000</td>\n",
       "      <td>0.471853</td>\n",
       "      <td>360.000000</td>\n",
       "      <td>300.000000</td>\n",
       "      <td>17.853935</td>\n",
       "      <td>17.104230</td>\n",
       "      <td>51990.000000</td>\n",
       "      <td>436.000000</td>\n",
       "      <td>17.372135</td>\n",
       "      <td>181.137522</td>\n",
       "      <td>0.083412</td>\n",
       "      <td>756.000000</td>\n",
       "      <td>4.910325e+17</td>\n",
       "      <td>18.938120</td>\n",
       "      <td>16.967060</td>\n",
       "    </tr>\n",
       "    <tr>\n",
       "      <th>75%</th>\n",
       "      <td>5.000000</td>\n",
       "      <td>46.867762</td>\n",
       "      <td>517.000000</td>\n",
       "      <td>419.000000</td>\n",
       "      <td>18.576240</td>\n",
       "      <td>18.297390</td>\n",
       "      <td>54208.000000</td>\n",
       "      <td>2558.000000</td>\n",
       "      <td>18.386520</td>\n",
       "      <td>203.797955</td>\n",
       "      <td>0.772505</td>\n",
       "      <td>1334.000000</td>\n",
       "      <td>2.880110e+18</td>\n",
       "      <td>19.300235</td>\n",
       "      <td>18.200680</td>\n",
       "    </tr>\n",
       "    <tr>\n",
       "      <th>max</th>\n",
       "      <td>6.000000</td>\n",
       "      <td>68.542265</td>\n",
       "      <td>1000.000000</td>\n",
       "      <td>768.000000</td>\n",
       "      <td>19.918970</td>\n",
       "      <td>24.361810</td>\n",
       "      <td>57481.000000</td>\n",
       "      <td>8410.000000</td>\n",
       "      <td>24.802040</td>\n",
       "      <td>260.884382</td>\n",
       "      <td>5.353854</td>\n",
       "      <td>1412.000000</td>\n",
       "      <td>9.468830e+18</td>\n",
       "      <td>19.599900</td>\n",
       "      <td>22.833060</td>\n",
       "    </tr>\n",
       "  </tbody>\n",
       "</table>\n",
       "</div>"
      ],
      "text/plain": [
       "            camcol          dec      fiberid        field            g  \\\n",
       "count  9942.000000  9942.000000  9942.000000  9942.000000  9942.000000   \n",
       "mean      3.673607    16.640024   362.472742   305.549286    17.767490   \n",
       "std       1.667510    26.260674   207.338009   163.091559     1.039752   \n",
       "min       1.000000    -5.382632     1.000000    11.000000    12.799550   \n",
       "25%       2.000000    -0.516491   199.000000   183.000000    17.127297   \n",
       "50%       4.000000     0.471853   360.000000   300.000000    17.853935   \n",
       "75%       5.000000    46.867762   517.000000   419.000000    18.576240   \n",
       "max       6.000000    68.542265  1000.000000   768.000000    19.918970   \n",
       "\n",
       "                 i           mjd        plate            r           ra  \\\n",
       "count  9942.000000   9942.000000  9942.000000  9942.000000  9942.000000   \n",
       "mean     17.118316  52864.536311  1405.540435    17.340123   176.370761   \n",
       "std       1.309299   1532.403613  1862.923269     1.222868    47.381307   \n",
       "min      11.947210  51608.000000   266.000000    12.431600     8.235100   \n",
       "25%      16.133055  51900.000000   298.000000    16.476307   156.380032   \n",
       "50%      17.104230  51990.000000   436.000000    17.372135   181.137522   \n",
       "75%      18.297390  54208.000000  2558.000000    18.386520   203.797955   \n",
       "max      24.361810  57481.000000  8410.000000    24.802040   260.884382   \n",
       "\n",
       "          redshift          run     specobjid            u            z  \n",
       "count  9942.000000  9942.000000  9.942000e+03  9942.000000  9942.000000  \n",
       "mean      0.467938   997.580064  1.582598e+18    18.720728    16.981883  \n",
       "std       0.710924   276.130725  2.097480e+18     0.761472     1.384393  \n",
       "min      -0.004136   308.000000  2.995830e+17    12.988970    11.610410  \n",
       "25%       0.000403   756.000000  3.356348e+17    18.358510    15.914985  \n",
       "50%       0.083412   756.000000  4.910325e+17    18.938120    16.967060  \n",
       "75%       0.772505  1334.000000  2.880110e+18    19.300235    18.200680  \n",
       "max       5.353854  1412.000000  9.468830e+18    19.599900    22.833060  "
      ]
     },
     "execution_count": 13,
     "metadata": {},
     "output_type": "execute_result"
    }
   ],
   "source": [
    "#comparar los datos\n",
    "df_over.describe()"
   ]
  },
  {
   "cell_type": "code",
   "execution_count": 14,
   "metadata": {},
   "outputs": [
    {
     "data": {
      "text/plain": [
       "array([[<matplotlib.axes._subplots.AxesSubplot object at 0x7f586019b050>,\n",
       "        <matplotlib.axes._subplots.AxesSubplot object at 0x7f586017ed10>,\n",
       "        <matplotlib.axes._subplots.AxesSubplot object at 0x7f58601349d0>,\n",
       "        <matplotlib.axes._subplots.AxesSubplot object at 0x7f58600f4d10>],\n",
       "       [<matplotlib.axes._subplots.AxesSubplot object at 0x7f58600aa9d0>,\n",
       "        <matplotlib.axes._subplots.AxesSubplot object at 0x7f5860069d50>,\n",
       "        <matplotlib.axes._subplots.AxesSubplot object at 0x7f5860020a10>,\n",
       "        <matplotlib.axes._subplots.AxesSubplot object at 0x7f585ffde250>],\n",
       "       [<matplotlib.axes._subplots.AxesSubplot object at 0x7f585ffded90>,\n",
       "        <matplotlib.axes._subplots.AxesSubplot object at 0x7f585ff9f750>,\n",
       "        <matplotlib.axes._subplots.AxesSubplot object at 0x7f585ff05a90>,\n",
       "        <matplotlib.axes._subplots.AxesSubplot object at 0x7f585fec2e10>],\n",
       "       [<matplotlib.axes._subplots.AxesSubplot object at 0x7f585fef8ad0>,\n",
       "        <matplotlib.axes._subplots.AxesSubplot object at 0x7f585fe5be50>,\n",
       "        <matplotlib.axes._subplots.AxesSubplot object at 0x7f585fe10b10>,\n",
       "        <matplotlib.axes._subplots.AxesSubplot object at 0x7f585fdd0e90>]],\n",
       "      dtype=object)"
      ]
     },
     "execution_count": 14,
     "metadata": {},
     "output_type": "execute_result"
    },
    {
     "data": {
      "image/png": "[encoded data removed]",
      "text/plain": [
       "<Figure size 432x288 with 16 Axes>"
      ]
     },
     "metadata": {
      "needs_background": "light"
     },
     "output_type": "display_data"
    }
   ],
   "source": [
    "df_over.hist()"
   ]
  },
  {
   "cell_type": "code",
   "execution_count": 15,
   "metadata": {},
   "outputs": [
    {
     "data": {
      "text/plain": [
       "array([[<matplotlib.axes._subplots.AxesSubplot object at 0x7f585d871710>,\n",
       "        <matplotlib.axes._subplots.AxesSubplot object at 0x7f585d7fea90>,\n",
       "        <matplotlib.axes._subplots.AxesSubplot object at 0x7f585d811d90>,\n",
       "        <matplotlib.axes._subplots.AxesSubplot object at 0x7f585d7cbc90>],\n",
       "       [<matplotlib.axes._subplots.AxesSubplot object at 0x7f585d783950>,\n",
       "        <matplotlib.axes._subplots.AxesSubplot object at 0x7f585d73fcd0>,\n",
       "        <matplotlib.axes._subplots.AxesSubplot object at 0x7f585d6f6990>,\n",
       "        <matplotlib.axes._subplots.AxesSubplot object at 0x7f585d6b41d0>],\n",
       "       [<matplotlib.axes._subplots.AxesSubplot object at 0x7f585d6b4d10>,\n",
       "        <matplotlib.axes._subplots.AxesSubplot object at 0x7f585d6756d0>,\n",
       "        <matplotlib.axes._subplots.AxesSubplot object at 0x7f585d5dfa10>,\n",
       "        <matplotlib.axes._subplots.AxesSubplot object at 0x7f585d59fd90>],\n",
       "       [<matplotlib.axes._subplots.AxesSubplot object at 0x7f585d5d4a50>,\n",
       "        <matplotlib.axes._subplots.AxesSubplot object at 0x7f585d594dd0>,\n",
       "        <matplotlib.axes._subplots.AxesSubplot object at 0x7f585d549a90>,\n",
       "        <matplotlib.axes._subplots.AxesSubplot object at 0x7f585d508e10>]],\n",
       "      dtype=object)"
      ]
     },
     "execution_count": 15,
     "metadata": {},
     "output_type": "execute_result"
    },
    {
     "data": {
      "image/png": "[encoded data removed]",
      "text/plain": [
       "<Figure size 432x288 with 16 Axes>"
      ]
     },
     "metadata": {
      "needs_background": "light"
     },
     "output_type": "display_data"
    }
   ],
   "source": [
    "df.describe()\n",
    "df_drop.hist()"
   ]
  },
  {
   "cell_type": "code",
   "execution_count": 21,
   "metadata": {},
   "outputs": [],
   "source": [
    "#primer clasificador KNeighbors\n",
    "neigh = KNeighborsClassifier(n_neighbors=5)\n",
    "neigh.fit(X_over, y_over)\n",
    "\n",
    "y_pred = neigh.predict(X_test)\n"
   ]
  },
  {
   "cell_type": "code",
   "execution_count": 22,
   "metadata": {},
   "outputs": [
    {
     "data": {
      "text/plain": [
       "array([[1021,  378,   54],\n",
       "       [ 127,   85,   35],\n",
       "       [ 198,  168,  934]])"
      ]
     },
     "execution_count": 22,
     "metadata": {},
     "output_type": "execute_result"
    }
   ],
   "source": [
    "#Matriz de confusión para evaluar rendimiento\n",
    "confusion_matrix1 = confusion_matrix(y_test, y_pred)\n",
    "confusion_matrix1\n"
   ]
  },
  {
   "cell_type": "code",
   "execution_count": 23,
   "metadata": {},
   "outputs": [
    {
     "name": "stdout",
     "output_type": "stream",
     "text": [
      "              precision    recall  f1-score   support\n",
      "\n",
      "      GALAXY       0.76      0.70      0.73      1453\n",
      "         QSO       0.13      0.34      0.19       247\n",
      "        STAR       0.91      0.72      0.80      1300\n",
      "\n",
      "    accuracy                           0.68      3000\n",
      "   macro avg       0.60      0.59      0.58      3000\n",
      "weighted avg       0.77      0.68      0.72      3000\n",
      "\n"
     ]
    }
   ],
   "source": [
    "print(classification_report(y_test, y_pred))"
   ]
  },
  {
   "cell_type": "code",
   "execution_count": 24,
   "metadata": {},
   "outputs": [],
   "source": [
    "#Probando el entrenamiento sin balanceo de datos\n",
    "neigh = KNeighborsClassifier(n_neighbors=5)\n",
    "neigh.fit(X_train, y_train)\n",
    "\n",
    "y_pred2 = neigh.predict(X_test)"
   ]
  },
  {
   "cell_type": "code",
   "execution_count": 25,
   "metadata": {},
   "outputs": [
    {
     "name": "stdout",
     "output_type": "stream",
     "text": [
      "              precision    recall  f1-score   support\n",
      "\n",
      "      GALAXY       0.74      0.94      0.83      1453\n",
      "         QSO       0.20      0.04      0.07       247\n",
      "        STAR       0.90      0.76      0.83      1300\n",
      "\n",
      "    accuracy                           0.79      3000\n",
      "   macro avg       0.61      0.58      0.57      3000\n",
      "weighted avg       0.76      0.79      0.76      3000\n",
      "\n"
     ]
    },
    {
     "data": {
      "text/plain": [
       "array([[1360,   29,   64],\n",
       "       [ 187,   11,   49],\n",
       "       [ 293,   14,  993]])"
      ]
     },
     "execution_count": 25,
     "metadata": {},
     "output_type": "execute_result"
    }
   ],
   "source": [
    "confusion_matrix2 = confusion_matrix(y_test, y_pred2)\n",
    "print(classification_report(y_test, y_pred2))\n",
    "confusion_matrix2"
   ]
  },
  {
   "cell_type": "code",
   "execution_count": 34,
   "metadata": {},
   "outputs": [],
   "source": [
    "#Probando el segundo método: SVC\n",
    "clf = make_pipeline(StandardScaler(), SVC(gamma='auto'))\n",
    "clf.fit(X_over, y_over)\n",
    "y_pred3 = clf.predict(X_test)"
   ]
  },
  {
   "cell_type": "code",
   "execution_count": 35,
   "metadata": {},
   "outputs": [
    {
     "name": "stdout",
     "output_type": "stream",
     "text": [
      "              precision    recall  f1-score   support\n",
      "\n",
      "      GALAXY       0.91      0.97      0.94      1453\n",
      "         QSO       0.96      0.93      0.94       247\n",
      "        STAR       0.97      0.90      0.93      1300\n",
      "\n",
      "    accuracy                           0.94      3000\n",
      "   macro avg       0.94      0.93      0.94      3000\n",
      "weighted avg       0.94      0.94      0.93      3000\n",
      "\n"
     ]
    },
    {
     "data": {
      "text/plain": [
       "array([[1410,    6,   37],\n",
       "       [  14,  229,    4],\n",
       "       [ 130,    4, 1166]])"
      ]
     },
     "execution_count": 35,
     "metadata": {},
     "output_type": "execute_result"
    }
   ],
   "source": [
    "#Matriz de confusión metodo 2\n",
    "confusion_matrix3 = confusion_matrix(y_test, y_pred3)\n",
    "print(classification_report(y_test, y_pred3))\n",
    "confusion_matrix3"
   ]
  },
  {
   "cell_type": "code",
   "execution_count": 36,
   "metadata": {},
   "outputs": [],
   "source": [
    "#Método 3: Random Forest\n",
    "clf_m3 = RandomForestClassifier(max_depth=2, random_state=0)\n",
    "clf_m3.fit(X_over, y_over)\n",
    "y_pred4 = clf_m3.predict(X_test)"
   ]
  },
  {
   "cell_type": "code",
   "execution_count": 37,
   "metadata": {},
   "outputs": [
    {
     "name": "stdout",
     "output_type": "stream",
     "text": [
      "              precision    recall  f1-score   support\n",
      "\n",
      "      GALAXY       0.83      0.96      0.89      1453\n",
      "         QSO       0.67      0.84      0.74       247\n",
      "        STAR       0.96      0.75      0.84      1300\n",
      "\n",
      "    accuracy                           0.86      3000\n",
      "   macro avg       0.82      0.85      0.83      3000\n",
      "weighted avg       0.87      0.86      0.86      3000\n",
      "\n"
     ]
    },
    {
     "data": {
      "text/plain": [
       "array([[1396,   25,   32],\n",
       "       [  32,  207,    8],\n",
       "       [ 252,   77,  971]])"
      ]
     },
     "execution_count": 37,
     "metadata": {},
     "output_type": "execute_result"
    }
   ],
   "source": [
    "#Matriz de confusión metodo 3\n",
    "confusion_matrix4 = confusion_matrix(y_test, y_pred4)\n",
    "print(classification_report(y_test, y_pred4))\n",
    "confusion_matrix4"
   ]
  },
  {
   "cell_type": "markdown",
   "metadata": {},
   "source": [
    "### Comparación de rendimientos:\n",
    "\n",
    "Claramente podemos observar que el método que mejor predijo los resultados fue el segundo método, el SVC (Support Vector Classification) y el peor fue el primero (KNeighbors) que obtuvo incluso peores resultados que los datos originales sin balancear.\n",
    "\n",
    "#### Ventajas y desventajas: \n",
    "##### K-Neighbors:\n",
    "\n",
    "Ventajas: Es un método simple y bastante fácil de entender, además es bastante robusto y a veces preciso, aunque no es competitivo en comparación a otros métodos.\n",
    "Desventajas: Requisito de memoria alta. Además por lo que investigué el algoritmo no aprende explícitamente un modelo, en su lugar, elige memorizar las instancias de capacitación que se utilizan posteriormente como conocimiento para la fase de predicción.\n",
    "\n",
    "##### SVC\n",
    "\n",
    "Ventajas: Puede separar de manera óptima las diferentes características posicionandolas en un hiperplano, son muy útiles con una cantidad de datos no tan grande\n",
    "\n",
    "###### Random forest\n",
    "\n",
    "Ventajas: Es bastante certero en sus predicciones y se puede utilizar con grandes volumenes de datos\n",
    "Desventajas: Puede caer en sobreajustes con datos ruidosos, es más complejo de interpretar por las personas en comparación a los árboles.\n"
   ]
  },
  {
   "cell_type": "code",
   "execution_count": 39,
   "metadata": {},
   "outputs": [
    {
     "name": "stdout",
     "output_type": "stream",
     "text": [
      "[0.01159687 0.01591997 0.03966846 0.08385275 0.07431985 0.09071974\n",
      " 0.10002341 0.01042946 0.00771466 0.01132619 0.08699038 0.2857719\n",
      " 0.08661404 0.08301907 0.01203325]\n"
     ]
    }
   ],
   "source": [
    "#Obtener la importancia de cada característica gracias al random  forest\n",
    "from sklearn.ensemble import ExtraTreesClassifier\n",
    "model = ExtraTreesClassifier()\n",
    "model.fit(X_over, y_over)\n",
    "print(model.feature_importances_)"
   ]
  },
  {
   "cell_type": "code",
   "execution_count": 42,
   "metadata": {},
   "outputs": [
    {
     "data": {
      "image/png": "[encoded data removed]",
      "text/plain": [
       "<Figure size 432x288 with 1 Axes>"
      ]
     },
     "metadata": {
      "needs_background": "light"
     },
     "output_type": "display_data"
    },
    {
     "data": {
      "text/plain": [
       "[0.011596873433777775,\n",
       " 0.015919974209034283,\n",
       " 0.039668456618457325,\n",
       " 0.08385274858428804,\n",
       " 0.07431984535783999,\n",
       " 0.09071973515372198,\n",
       " 0.1000234056854556,\n",
       " 0.010429461931824676,\n",
       " 0.007714661698954292,\n",
       " 0.01132619123306976,\n",
       " 0.0869903807877961,\n",
       " 0.28577190007017,\n",
       " 0.08661404275387846,\n",
       " 0.08301906905496491,\n",
       " 0.012033253426766744]"
      ]
     },
     "execution_count": 42,
     "metadata": {},
     "output_type": "execute_result"
    }
   ],
   "source": [
    "#graficamos lo anterior\n",
    "from matplotlib import pyplot\n",
    "pyplot.bar(range(len(model.feature_importances_)), model.feature_importances_)\n",
    "pyplot.show()\n",
    "list(model.feature_importances_)"
   ]
  },
  {
   "cell_type": "markdown",
   "metadata": {},
   "source": [
    "Podemos observar que la característica \"run\" es la más significativa y la \"r\" la menos"
   ]
  }
 ],
 "metadata": {
  "kernelspec": {
   "display_name": "Python 3",
   "language": "python",
   "name": "python3"
  },
  "language_info": {
   "codemirror_mode": {
    "name": "ipython",
    "version": 3
   },
   "file_extension": ".py",
   "mimetype": "text/x-python",
   "name": "python",
   "nbconvert_exporter": "python",
   "pygments_lexer": "ipython3",
   "version": "3.7.6"
  }
 },
 "nbformat": 4,
 "nbformat_minor": 4
}
